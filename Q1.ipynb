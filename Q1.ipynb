{
  "nbformat": 4,
  "nbformat_minor": 0,
  "metadata": {
    "colab": {
      "name": "Q1.ipynb",
      "provenance": [],
      "authorship_tag": "ABX9TyN8Dt7usOSyR/wF8zy39rle",
      "include_colab_link": true
    },
    "kernelspec": {
      "name": "python3",
      "display_name": "Python 3"
    },
    "language_info": {
      "name": "python"
    }
  },
  "cells": [
    {
      "cell_type": "markdown",
      "metadata": {
        "id": "view-in-github",
        "colab_type": "text"
      },
      "source": [
        "<a href=\"https://colab.research.google.com/github/Rashikarora/Python-Practical-Exam/blob/main/Q1.ipynb\" target=\"_parent\"><img src=\"https://colab.research.google.com/assets/colab-badge.svg\" alt=\"Open In Colab\"/></a>"
      ]
    },
    {
      "cell_type": "code",
      "execution_count": 13,
      "metadata": {
        "colab": {
          "base_uri": "https://localhost:8080/"
        },
        "id": "ulXbT6aWehjH",
        "outputId": "fc5cf3e3-56b1-4a3a-9bbc-e38f829948b3"
      },
      "outputs": [
        {
          "output_type": "stream",
          "name": "stdout",
          "text": [
            "Enter the number: 5\n",
            "sum of odd numbers= 9\n"
          ]
        }
      ],
      "source": [
        "#1.\n",
        "#a)\n",
        "r = int(input(\"Enter the number: \"))\n",
        "sum=0\n",
        "i=1\n",
        "while(i<=r):\n",
        "    sum=sum+i\n",
        "    i=i+2\n",
        "print(\"sum of odd numbers=\",sum)\n",
        " "
      ]
    },
    {
      "cell_type": "code",
      "source": [
        "#b)\n",
        "n = int(input(\"Enter the number: \"))\n",
        "sum=0\n",
        "i=2\n",
        "while(i<=n):\n",
        "    sum=sum+i\n",
        "    i=i+2\n",
        "print(\"sum of even numbers=\",sum)"
      ],
      "metadata": {
        "colab": {
          "base_uri": "https://localhost:8080/"
        },
        "id": "21BY2ESNsX_h",
        "outputId": "5b391e43-2bbf-4a13-ef8e-6c8e5d3e1edd"
      },
      "execution_count": 14,
      "outputs": [
        {
          "output_type": "stream",
          "name": "stdout",
          "text": [
            "Enter the number: 5\n",
            "sum of even numbers= 6\n"
          ]
        }
      ]
    },
    {
      "cell_type": "code",
      "source": [
        "#c)"
      ],
      "metadata": {
        "id": "Uk4Vz8wVs4ha"
      },
      "execution_count": null,
      "outputs": []
    }
  ]
}