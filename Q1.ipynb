{
  "nbformat": 4,
  "nbformat_minor": 0,
  "metadata": {
    "colab": {
      "name": "Q1.ipynb",
      "provenance": [],
      "authorship_tag": "ABX9TyPLG9WQC975pVGnKzNC50Eg",
      "include_colab_link": true
    },
    "kernelspec": {
      "name": "python3",
      "display_name": "Python 3"
    },
    "language_info": {
      "name": "python"
    }
  },
  "cells": [
    {
      "cell_type": "markdown",
      "metadata": {
        "id": "view-in-github",
        "colab_type": "text"
      },
      "source": [
        "<a href=\"https://colab.research.google.com/github/Rashikarora/Python-Practical-Exam/blob/main/Q1.ipynb\" target=\"_parent\"><img src=\"https://colab.research.google.com/assets/colab-badge.svg\" alt=\"Open In Colab\"/></a>"
      ]
    },
    {
      "cell_type": "code",
      "execution_count": 13,
      "metadata": {
        "colab": {
          "base_uri": "https://localhost:8080/"
        },
        "id": "ulXbT6aWehjH",
        "outputId": "fc5cf3e3-56b1-4a3a-9bbc-e38f829948b3"
      },
      "outputs": [
        {
          "output_type": "stream",
          "name": "stdout",
          "text": [
            "Enter the number: 5\n",
            "sum of odd numbers= 9\n"
          ]
        }
      ],
      "source": [
        "#1.\n",
        "#a)first n odd terms\n",
        "r = int(input(\"Enter the number: \"))\n",
        "sum=0\n",
        "i=1\n",
        "while(i<=r):\n",
        "    sum=sum+i\n",
        "    i=i+2\n",
        "print(\"sum of odd numbers=\",sum)\n",
        " "
      ]
    },
    {
      "cell_type": "code",
      "source": [
        "#b)first n even terms\n",
        "n = int(input(\"Enter the number: \"))\n",
        "sum=0\n",
        "i=2\n",
        "while(i<=n):\n",
        "    sum=sum+i\n",
        "    i=i+2\n",
        "print(\"sum of even numbers=\",sum)"
      ],
      "metadata": {
        "colab": {
          "base_uri": "https://localhost:8080/"
        },
        "id": "21BY2ESNsX_h",
        "outputId": "5b391e43-2bbf-4a13-ef8e-6c8e5d3e1edd"
      },
      "execution_count": 14,
      "outputs": [
        {
          "output_type": "stream",
          "name": "stdout",
          "text": [
            "Enter the number: 5\n",
            "sum of even numbers= 6\n"
          ]
        }
      ]
    },
    {
      "cell_type": "code",
      "source": [
        "#c)sum of n natural numbers\n",
        "num = 11\n",
        "\n",
        "\n",
        "if num < 0:\n",
        "   print(\"Enter a positive number\")\n",
        "else:\n",
        "   sum = 0\n",
        "   # use while loop to iterate until zero\n",
        "   while(num > 0):\n",
        "       sum += num\n",
        "       num -= 1\n",
        "   print(\"The sum is\", sum)"
      ],
      "metadata": {
        "colab": {
          "base_uri": "https://localhost:8080/"
        },
        "id": "Uk4Vz8wVs4ha",
        "outputId": "13a059d0-3ab8-4277-abf8-fd4f37bb3751"
      },
      "execution_count": 16,
      "outputs": [
        {
          "output_type": "stream",
          "name": "stdout",
          "text": [
            "The sum is 66\n"
          ]
        }
      ]
    }
  ]
}