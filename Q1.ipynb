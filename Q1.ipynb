{
  "nbformat": 4,
  "nbformat_minor": 0,
  "metadata": {
    "colab": {
      "name": "Q1.ipynb",
      "provenance": [],
      "authorship_tag": "ABX9TyPLG9WQC975pVGnKzNC50Eg",
      "include_colab_link": true
    },
    "kernelspec": {
      "name": "python3",
      "display_name": "Python 3"
    },
    "language_info": {
      "name": "python"
    }
  },
  "cells": [
    {
      "cell_type": "markdown",
      "metadata": {
        "id": "view-in-github",
        "colab_type": "text"
      },
      "source": [
        "<a href=\"https://colab.research.google.com/github/Rashikarora/Python-Practical-Exam/blob/main/Q1.ipynb\" target=\"_parent\"><img src=\"https://colab.research.google.com/assets/colab-badge.svg\" alt=\"Open In Colab\"/></a>"
      ]
    },
    {
      "cell_type": "code",
      "execution_count": null,
      "metadata": {
        "id": "ulXbT6aWehjH"
      },
      "outputs": [],
      "source": [
        "#1.\n",
        "#a)first n odd terms\n",
        "r = int(input(\"Enter the number: \"))\n",
        "sum=0\n",
        "i=1\n",
        "while(i<=r):\n",
        "    sum=sum+i\n",
        "    i=i+2\n",
        "print(\"sum of odd numbers=\",sum)\n",
        " "
      ]
    },
    {
      "cell_type": "code",
      "source": [
        "#b)first n even terms\n",
        "n = int(input(\"Enter the number: \"))\n",
        "sum=0\n",
        "i=2\n",
        "while(i<=n):\n",
        "    sum=sum+i\n",
        "    i=i+2\n",
        "print(\"sum of even numbers=\",sum)"
      ],
      "metadata": {
        "id": "21BY2ESNsX_h"
      },
      "execution_count": null,
      "outputs": []
    },
    {
      "cell_type": "code",
      "source": [
        "#c)sum of n natural numbers\n",
        "num = 11\n",
        "\n",
        "\n",
        "if num < 0:\n",
        "   print(\"Enter a positive number\")\n",
        "else:\n",
        "   sum = 0\n",
        "   # use while loop to iterate until zero\n",
        "   while(num > 0):\n",
        "       sum += num\n",
        "       num -= 1\n",
        "   print(\"The sum is\", sum)"
      ],
      "metadata": {
        "id": "Uk4Vz8wVs4ha"
      },
      "execution_count": null,
      "outputs": []
    }
  ]
}