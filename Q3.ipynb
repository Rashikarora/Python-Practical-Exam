{
  "nbformat": 4,
  "nbformat_minor": 0,
  "metadata": {
    "colab": {
      "name": "Q3.ipynb",
      "provenance": [],
      "authorship_tag": "ABX9TyPxmycZe/IdlmZXGsLjLZcj",
      "include_colab_link": true
    },
    "kernelspec": {
      "name": "python3",
      "display_name": "Python 3"
    },
    "language_info": {
      "name": "python"
    }
  },
  "cells": [
    {
      "cell_type": "markdown",
      "metadata": {
        "id": "view-in-github",
        "colab_type": "text"
      },
      "source": [
        "<a href=\"https://colab.research.google.com/github/Rashikarora/Python-Practical-Exam/blob/main/Q3.ipynb\" target=\"_parent\"><img src=\"https://colab.research.google.com/assets/colab-badge.svg\" alt=\"Open In Colab\"/></a>"
      ]
    },
    {
      "cell_type": "code",
      "execution_count": null,
      "metadata": {
        "id": "ulXbT6aWehjH"
      },
      "outputs": [],
      "source": [
        "#2.\n",
        "#(a) Print half the values of tuple in one line and other half in the next line.\n",
        "t1=(1,2,3,4,5,6,7,8,9,10)\n",
        "a = t1[:5]\n",
        "b = t1[5:]\n",
        "print(a)\n",
        "print(b)\n",
        "\n",
        " "
      ]
    },
    {
      "cell_type": "code",
      "source": [
        "#(b) Print another tuple whose values are even numbers in the given tuple.\n",
        "t1=(1,2,3,4,5,6,7,8,9,10)\n",
        "n = list(t1)\n",
        "m = list()\n",
        "\n",
        "for x in n :\n",
        "    if x in n:\n",
        "        if (x%2 == 0) :\n",
        "            m.append(x)\n",
        "    s = tuple(m)\n",
        "print(\"Tuple =\",s) "
      ],
      "metadata": {
        "id": "21BY2ESNsX_h"
      },
      "execution_count": null,
      "outputs": []
    },
    {
      "cell_type": "code",
      "source": [
        "#(c) Concatenate a tuple t2 (11,13,15) with t1\n",
        "t1=(1,2,3,4,5,6,7,8,9,10)\n",
        "t2=(11,13,15)\n",
        "a = list(t1)\n",
        "b = list(t2)\n",
        "c = a+b\n",
        "print(c)"
      ],
      "metadata": {
        "id": "Uk4Vz8wVs4ha"
      },
      "execution_count": null,
      "outputs": []
    },
    {
      "cell_type": "code",
      "source": [
        "#(d) Return  maximun and minimum value from this tuple\n",
        "print(\"Max number = \",max(t1) )\n",
        "print(\"Min number = \",min(t1))"
      ],
      "metadata": {
        "id": "7fyD-1Agw40i"
      },
      "execution_count": null,
      "outputs": []
    }
  ]
}