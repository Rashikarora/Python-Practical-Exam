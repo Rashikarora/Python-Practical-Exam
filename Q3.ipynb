{
  "nbformat": 4,
  "nbformat_minor": 0,
  "metadata": {
    "colab": {
      "name": "Q3.ipynb",
      "provenance": [],
      "authorship_tag": "ABX9TyM26YT/K6u3U66BzX1ojlxc",
      "include_colab_link": true
    },
    "kernelspec": {
      "name": "python3",
      "display_name": "Python 3"
    },
    "language_info": {
      "name": "python"
    }
  },
  "cells": [
    {
      "cell_type": "markdown",
      "metadata": {
        "id": "view-in-github",
        "colab_type": "text"
      },
      "source": [
        "<a href=\"https://colab.research.google.com/github/Rashikarora/Python-Practical-Exam/blob/main/Q3.ipynb\" target=\"_parent\"><img src=\"https://colab.research.google.com/assets/colab-badge.svg\" alt=\"Open In Colab\"/></a>"
      ]
    },
    {
      "cell_type": "code",
      "execution_count": null,
      "metadata": {
        "id": "ulXbT6aWehjH"
      },
      "outputs": [],
      "source": [
        "def string():\n",
        "    choice =int(input('''Enter your choice \n",
        "1 = length of the string\n",
        "2 = maximum of three strrings\n",
        "3 = Replace every successive character with #\n",
        "4 = number of words in the string\n",
        "'''))\n",
        "\n",
        "    if choice == 1:\n",
        "        n = input(\"Enter a string : \")\n",
        "        l=len(n)\n",
        "        print(\"The length of the string is =\",l)      \n",
        "    elif choice == 2:\n",
        "        n1 = input(\"Enter 1st string : \")\n",
        "        n2 = input(\"Enter 2nd string : \")\n",
        "        n3 = input(\"Enter 3rd string : \")\n",
        "        print(\"The maximum of the three strings is =\",max(n1,n2,n3))    \n",
        "    elif choice == 3:\n",
        "        n = input(\"Enter a string : \")\n",
        "        s = \"\"\n",
        "        m = list(n)\n",
        "        for i in range(len(n)):\n",
        "            if (i%2 != 0):\n",
        "                if m[i] == \" \":\n",
        "                    m[i] = \" \"\n",
        "                else:\n",
        "                    m[i] = \"#\"\n",
        "        for x in m:\n",
        "            s=s+x\n",
        "        print(\"The sucessive character in the string is replaced with # :\",s) \n",
        "    elif choice == 4:\n",
        "            n = input(\"Enter a string : \")\n",
        "            c = 0\n",
        "            for y in n :\n",
        "                if y == \" \" :\n",
        "                    c += 1\n",
        "            w = c+1\n",
        "            print(\"The number of words = \",w) \n",
        "    else :\n",
        "        print(\"Please Choose from the given option only\")\n",
        "\n",
        "string()"
      ]
    }
  ]
}