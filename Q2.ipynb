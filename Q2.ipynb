{
  "nbformat": 4,
  "nbformat_minor": 0,
  "metadata": {
    "colab": {
      "name": "Q2.ipynb",
      "provenance": [],
      "authorship_tag": "ABX9TyPxmycZe/IdlmZXGsLjLZcj",
      "include_colab_link": true
    },
    "kernelspec": {
      "name": "python3",
      "display_name": "Python 3"
    },
    "language_info": {
      "name": "python"
    }
  },
  "cells": [
    {
      "cell_type": "markdown",
      "metadata": {
        "id": "view-in-github",
        "colab_type": "text"
      },
      "source": [
        "<a href=\"https://colab.research.google.com/github/Rashikarora/Python-Practical-Exam/blob/main/Q2.ipynb\" target=\"_parent\"><img src=\"https://colab.research.google.com/assets/colab-badge.svg\" alt=\"Open In Colab\"/></a>"
      ]
    },
    {
      "cell_type": "code",
      "execution_count": 19,
      "metadata": {
        "colab": {
          "base_uri": "https://localhost:8080/"
        },
        "id": "ulXbT6aWehjH",
        "outputId": "28a63b31-102a-4151-8e40-09c221a99183"
      },
      "outputs": [
        {
          "output_type": "stream",
          "name": "stdout",
          "text": [
            "(1, 2, 3, 4, 5)\n",
            "(6, 7, 8, 9, 10)\n"
          ]
        }
      ],
      "source": [
        "#2.\n",
        "#(a) Print half the values of tuple in one line and other half in the next line.\n",
        "t1=(1,2,3,4,5,6,7,8,9,10)\n",
        "a = t1[:5]\n",
        "b = t1[5:]\n",
        "print(a)\n",
        "print(b)\n",
        "\n",
        " "
      ]
    },
    {
      "cell_type": "code",
      "source": [
        "#(b) Print another tuple whose values are even numbers in the given tuple.\n",
        "t1=(1,2,3,4,5,6,7,8,9,10)\n",
        "n = list(t1)\n",
        "m = list()\n",
        "\n",
        "for x in n :\n",
        "    if x in n:\n",
        "        if (x%2 == 0) :\n",
        "            m.append(x)\n",
        "    s = tuple(m)\n",
        "print(\"Tuple =\",s) "
      ],
      "metadata": {
        "colab": {
          "base_uri": "https://localhost:8080/"
        },
        "id": "21BY2ESNsX_h",
        "outputId": "0c7f6485-f9c1-4d9e-aa99-30224d46b9da"
      },
      "execution_count": 21,
      "outputs": [
        {
          "output_type": "stream",
          "name": "stdout",
          "text": [
            "Tuple = (2, 4, 6, 8, 10)\n"
          ]
        }
      ]
    },
    {
      "cell_type": "code",
      "source": [
        "#(c) Concatenate a tuple t2 (11,13,15) with t1\n",
        "t1=(1,2,3,4,5,6,7,8,9,10)\n",
        "t2=(11,13,15)\n",
        "a = list(t1)\n",
        "b = list(t2)\n",
        "c = a+b\n",
        "print(c)"
      ],
      "metadata": {
        "colab": {
          "base_uri": "https://localhost:8080/"
        },
        "id": "Uk4Vz8wVs4ha",
        "outputId": "a5092e27-17d8-4308-a193-8dbfe5838bc4"
      },
      "execution_count": 22,
      "outputs": [
        {
          "output_type": "stream",
          "name": "stdout",
          "text": [
            "[1, 2, 3, 4, 5, 6, 7, 8, 9, 10, 11, 13, 15]\n"
          ]
        }
      ]
    },
    {
      "cell_type": "code",
      "source": [
        "#(d) Return  maximun and minimum value from this tuple\n",
        "print(\"Max number = \",max(t1) )\n",
        "print(\"Min number = \",min(t1))"
      ],
      "metadata": {
        "colab": {
          "base_uri": "https://localhost:8080/"
        },
        "id": "7fyD-1Agw40i",
        "outputId": "e6529e27-f578-4bd4-98c8-98b1ddf47a24"
      },
      "execution_count": 23,
      "outputs": [
        {
          "output_type": "stream",
          "name": "stdout",
          "text": [
            "Max number =  10\n",
            "Min number =  1\n"
          ]
        }
      ]
    }
  ]
}